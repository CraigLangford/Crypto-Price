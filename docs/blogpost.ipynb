{
 "cells": [
  {
   "cell_type": "markdown",
   "metadata": {
    "deletable": true,
    "editable": true
   },
   "source": [
    "# Amazon Echo Cryptocurrency App\n",
    "Having just received an Amazon Echo I asked the typical questions you would ask it. \"Alexa, how's the weather\", \"Alexa, play me a song by the Tragically Hip\", \"Alexa, set my alarm for 7 AM tomorrow morning.\" After asking it a number of questions it got stuck on \"Alexa, what is the price of Bitcoin?\" responding \"Sorry, I can't help you with that.\" Trying a few other questions related to cryptocurrency prices it's quite clear that the current applications created for the Echo can't answer these type of questions very well, and those that do only respond in terms of US dollars. This post highlights the main steps to create my first Amazon Echo app, Crypto Price, and hopefully it can help you build your own! The source code can be found [here](https://github.com/CraigLangford/Crypto-Price) if you want to dive right in.\n",
    "\n",
    "## Process Flow\n",
    "\n",
    "Looking at the [documentation](www.developer.amazon.com), the general flow of an Alexa application is as follows.\n",
    "\n",
    "1) The user asks Alexa a question and it is either answered by Alexa or directed towards an Alexa Skill Kit (ASK) application.\n",
    "\n",
    "2) The ASK application breaks down the request variables for different context items called \"slots\" such as *cryptocurrency* and *world_currency*. \n",
    "\n",
    "3) The slot arguments are then sent to a Lambda Function (a function [hosted on AWS](https://aws.amazon.com/lambda/)) which responds with a response message and whether to continue the session or not.\n",
    "\n",
    "4) The Alexa Skill Kit converts the text to speech and responds to the end user.\n",
    "\n",
    "To set up a full Alexa Application we will need to set up a Alexa Skill Kit application and an Amazon Web Services (AWS) Lambda function. These are created using the Alexa Skill Kit developer console found [here](https://developer.amazon.com) and Python 3.6.1.\n",
    "\n",
    "## Alexa Skill Kit\n",
    "\n",
    "To first begin working on an Alexa Skill Kit application you must first create a developer account. Unfortunately this can take up to 24 hours, so create your account now so you can start fooling around with it as soon as possible.\n",
    "\n",
    "## Amazon Lambda Function (Python)\n",
    "\n"
   ]
  }
 ],
 "metadata": {
  "kernelspec": {
   "display_name": "Python 3",
   "language": "python",
   "name": "python3"
  },
  "language_info": {
   "codemirror_mode": {
    "name": "ipython",
    "version": 3
   },
   "file_extension": ".py",
   "mimetype": "text/x-python",
   "name": "python",
   "nbconvert_exporter": "python",
   "pygments_lexer": "ipython3",
   "version": "3.5.2"
  }
 },
 "nbformat": 4,
 "nbformat_minor": 2
}
