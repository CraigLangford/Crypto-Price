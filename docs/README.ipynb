{
 "cells": [
  {
   "cell_type": "markdown",
   "metadata": {},
   "source": [
    "# Crypto Price - Alexa Skills Kit Application\n",
    "\n",
    "Crypto Price is an Amazon Web Services (AWS) lambda function which when paired with the Alexa Skills Kit (ASK) can tell an Amazon Echo user the current price of the leading cryptocurrencies (such as Bitcoin, Ethereum, Monero, Litecoin, etc.) in any world currency. By default the function will return the price in US Dollars, however, if a user specifies a currency it will return the price in that currency. Furthermore, if the user enables the app location permissions on their Alexa App it will return the price in the currency of their current country. Some typical questions and responses are as follows:\n",
    "\n",
    "---\n",
    "\n",
    "> **User**: Alexa, tell me the price of Bitcoin from Crypto Price. *(location disabled)*\n",
    "\n",
    "> **Alexa**: The current price of Bitcoin is 1,250 US Dollars.\n",
    "\n",
    "---\n",
    "\n",
    "> **User**: Alexa, open Crypto Price and tell me the price of Ethereum. *(location enabled and in the United Kingdom)*\n",
    " \n",
    "> **Alexa**: The current price of Ethereum is 53.72 pounds.\n",
    "\n",
    "---\n",
    "\n",
    "> **User**: Alexa, load Crypto Price.\n",
    " \n",
    "> **Alexa**: Welcome to Crypto Price. Please ask a question like: What is the price of Bitcoin?\n",
    "\n",
    "> **User**: Give me the price of Monero in Yen.\n",
    " \n",
    "> **Alexa**: The current price of Monero is 3,070.75 yen.\n",
    "\n",
    "---\n",
    "\n",
    "> **User**: Alexa, get help from Crypto Price.\n",
    " \n",
    "> **Alexa**: Crypto Price returns the price of the leading cryptocurrencies in any country's currency. You can ask questions like...\n",
    "\n",
    "---\n",
    "\n",
    "\n"
   ]
  }
 ],
 "metadata": {
  "kernelspec": {
   "display_name": "Python 3",
   "language": "python",
   "name": "python3"
  },
  "language_info": {
   "codemirror_mode": {
    "name": "ipython",
    "version": 3
   },
   "file_extension": ".py",
   "mimetype": "text/x-python",
   "name": "python",
   "nbconvert_exporter": "python",
   "pygments_lexer": "ipython3",
   "version": "3.5.2"
  }
 },
 "nbformat": 4,
 "nbformat_minor": 2
}
