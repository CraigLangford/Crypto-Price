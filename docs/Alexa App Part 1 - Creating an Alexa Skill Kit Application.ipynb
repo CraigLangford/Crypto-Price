{
 "cells": [
  {
   "cell_type": "markdown",
   "metadata": {},
   "source": [
    "# Alexa App Part 1 - Creating an Alexa Skill Kit Application\n",
    "\n",
    "Having just received an Amazon Echo I made the typical requests \"Alexa, play X song,\" \"Alexa, tell me the weather,\" \"Alexa, what is the news for today?\" Wondering the current price of Bitcoin, which has been shooting up over the past month, I asked my Echo \"Alexa, what is the price of Bitcoin?\" This was responded with \"sorry, I can't help you with that.\" I was rather surprised as the Echo can handle any other currency conversion, which lead to my first idea for an Amazon Echo application - Crypto Price. This blog post and it's follow up [Alexa App Part 2 - AWS Lambda Function](LINK) are an overview of the steps needed to create your first Echo application. Furthermore, if you wish to try it yourself you can grab the source code [here](https://github.com/CraigLangford/Crypto-Price) and deploy your own!\n",
    "\n",
    "## Application Focus\n",
    "\n",
    "Looking through the Echo applications that already exists there can be seen to be quite a few Bitcoin price applications already. These appear to be sufficient to gather the Bitcoin Price in US Dollars by requesting something like \"Alexa, load Bitcoin Price,\" however, they do not seem to support any other cryptocurrencies (for which there are hundreds) as well as any other world currencies (I'm situated in England and the price in pounds would be much more useful).\n",
    "\n",
    "\n",
    "*Other Bitcoin price applications*"
   ]
  }
 ],
 "metadata": {
  "kernelspec": {
   "display_name": "Python 3",
   "language": "python",
   "name": "python3"
  },
  "language_info": {
   "codemirror_mode": {
    "name": "ipython",
    "version": 3
   },
   "file_extension": ".py",
   "mimetype": "text/x-python",
   "name": "python",
   "nbconvert_exporter": "python",
   "pygments_lexer": "ipython3",
   "version": "3.5.2"
  }
 },
 "nbformat": 4,
 "nbformat_minor": 2
}
