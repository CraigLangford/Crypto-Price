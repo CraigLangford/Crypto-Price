{
 "cells": [
  {
   "cell_type": "markdown",
   "metadata": {},
   "source": [
    "# Amazon Echo Cryptocurrency App\n",
    "Having just received an Amazon Echo I asked the typical questions you would ask it. \"Alexa, how's the weather\", \"Alexa, play me a song by the Tragically Hip\", \"Alexa, set my alarm for 7 AM tomorrow morning.\" After asking it a number of questions it got stuck on \"Alexa, what is the price of Bitcoin?\" responding \"Sorry, I can't help you with that.\" Trying a few other questions related to cryptocurrency prices it's quite clear that the current applications created for the Echo can't answer this question very well. Let's see if something can be done about that.\n",
    "\n",
    "Looking at the documentation at www.developer.amazon.com applications for Alexa are quite straightforward to make. They consist of the following 4 steps.\n",
    "\n",
    "1) You ask Alexa a question and it is either answerd or directed towards an Alexa Skill Kit application with an with a relevant \"Invocation Name\". This name should be relevant to the context of the application. For this application **Crypto Price** should work fine. For example you could ask something like: \"Alexa, ask Crypto Price for the price of Bitcoin\" or \"Alexa, get the price of Bitcoin from Crypto Price and it should know to get the details from the Alexa Skill Kit application.\n",
    "\n",
    "2) The Alexa Skill Kit application breaks down the request variables for different context items called \"Slots\" removing the need for any natural language proccessing from the application. In this application the Alexa App will have a required slot for the cryptocurrency and an optional slot for the currency of choice (GBP, USD, etc.). Asking \"Alexa, what is the price of bitcoin in pounds?\" will yield the cryptocurrency value of bitcoin and the currency value of pounds.\n",
    "\n",
    "3) The slot arguments are then sent to a lambda function (a function hosted by [Amazon's lambda service](https://aws.amazon.com/lambda/)) which returns an action to take place, such as requesting for more slot arguments, or responding to the query (\"The current price of bitcoin is 1023.62 pounds\").\n",
    "\n",
    "4) The Alexa Skill Kit interprets the response from the lambda function and decides if it needs to take more action. For example, if the function requests further slot arguments, the skill kit will take care of the dialogue for these details automatically. In this case, if the cryptocurrency wasn't specified from the user when they asked the application the Skill Kit app will ask something like \"What cryptocurrency would you like the price of?\". Otherwise, if the lambda function already specified the response this is forwarded on to the user."
   ]
  }
 ],
 "metadata": {
  "kernelspec": {
   "display_name": "Python 3",
   "language": "python",
   "name": "python3"
  },
  "language_info": {
   "codemirror_mode": {
    "name": "ipython",
    "version": 3
   },
   "file_extension": ".py",
   "mimetype": "text/x-python",
   "name": "python",
   "nbconvert_exporter": "python",
   "pygments_lexer": "ipython3",
   "version": "3.5.2"
  }
 },
 "nbformat": 4,
 "nbformat_minor": 2
}
